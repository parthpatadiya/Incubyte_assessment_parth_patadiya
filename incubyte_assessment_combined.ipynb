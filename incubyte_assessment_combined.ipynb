{
 "cells": [
  {
   "cell_type": "code",
   "execution_count": 13,
   "id": "7e77e235",
   "metadata": {},
   "outputs": [],
   "source": [
    "import pandas as pd\n",
    "import mysql.connector as mysql\n",
    "import numpy as np"
   ]
  },
  {
   "cell_type": "markdown",
   "id": "60e37e02",
   "metadata": {},
   "source": [
    "# Raw Data Loading in DataFrame, Cleaning and initializing"
   ]
  },
  {
   "cell_type": "code",
   "execution_count": 12,
   "id": "86f04702",
   "metadata": {},
   "outputs": [
    {
     "data": {
      "text/html": [
       "<div>\n",
       "<style scoped>\n",
       "    .dataframe tbody tr th:only-of-type {\n",
       "        vertical-align: middle;\n",
       "    }\n",
       "\n",
       "    .dataframe tbody tr th {\n",
       "        vertical-align: top;\n",
       "    }\n",
       "\n",
       "    .dataframe thead th {\n",
       "        text-align: right;\n",
       "    }\n",
       "</style>\n",
       "<table border=\"1\" class=\"dataframe\">\n",
       "  <thead>\n",
       "    <tr style=\"text-align: right;\">\n",
       "      <th></th>\n",
       "      <th>Customer Name</th>\n",
       "      <th>Customer ID</th>\n",
       "      <th>Customer Open Date</th>\n",
       "      <th>Last Consulted Date</th>\n",
       "      <th>Vaccination Type</th>\n",
       "      <th>Doctor Consulted</th>\n",
       "      <th>State</th>\n",
       "      <th>Country</th>\n",
       "      <th>Date of Birth</th>\n",
       "      <th>Active Customer</th>\n",
       "    </tr>\n",
       "  </thead>\n",
       "  <tbody>\n",
       "    <tr>\n",
       "      <th>0</th>\n",
       "      <td>Alex</td>\n",
       "      <td>123457</td>\n",
       "      <td>2010-10-12</td>\n",
       "      <td>2012-10-13</td>\n",
       "      <td>MVD</td>\n",
       "      <td>Paul</td>\n",
       "      <td>SA</td>\n",
       "      <td>USA</td>\n",
       "      <td>00000000</td>\n",
       "      <td>A</td>\n",
       "    </tr>\n",
       "    <tr>\n",
       "      <th>1</th>\n",
       "      <td>John</td>\n",
       "      <td>123458</td>\n",
       "      <td>2010-10-12</td>\n",
       "      <td>2012-10-13</td>\n",
       "      <td>MVD</td>\n",
       "      <td>Paul</td>\n",
       "      <td>None</td>\n",
       "      <td>IND</td>\n",
       "      <td>06031987</td>\n",
       "      <td>A</td>\n",
       "    </tr>\n",
       "    <tr>\n",
       "      <th>2</th>\n",
       "      <td>Mathew</td>\n",
       "      <td>123459</td>\n",
       "      <td>2010-10-12</td>\n",
       "      <td>2012-10-13</td>\n",
       "      <td>MVD</td>\n",
       "      <td>Paul</td>\n",
       "      <td>WAS</td>\n",
       "      <td>PHIL</td>\n",
       "      <td>06031987</td>\n",
       "      <td>A</td>\n",
       "    </tr>\n",
       "    <tr>\n",
       "      <th>3</th>\n",
       "      <td>Matt</td>\n",
       "      <td>12345</td>\n",
       "      <td>2010-10-12</td>\n",
       "      <td>2012-10-13</td>\n",
       "      <td>MVD</td>\n",
       "      <td>Paul</td>\n",
       "      <td>BOS</td>\n",
       "      <td>NYC</td>\n",
       "      <td>06031987</td>\n",
       "      <td>A</td>\n",
       "    </tr>\n",
       "    <tr>\n",
       "      <th>4</th>\n",
       "      <td>Jacob</td>\n",
       "      <td>1256</td>\n",
       "      <td>2010-10-12</td>\n",
       "      <td>2012-10-13</td>\n",
       "      <td>MVD</td>\n",
       "      <td>Paul</td>\n",
       "      <td>VIC</td>\n",
       "      <td>AU</td>\n",
       "      <td>06031987</td>\n",
       "      <td>A</td>\n",
       "    </tr>\n",
       "    <tr>\n",
       "      <th>5</th>\n",
       "      <td>Jack</td>\n",
       "      <td>12956</td>\n",
       "      <td>2010-10-12</td>\n",
       "      <td>2012-10-13</td>\n",
       "      <td>None</td>\n",
       "      <td>Paul</td>\n",
       "      <td>None</td>\n",
       "      <td>AU</td>\n",
       "      <td>06031987</td>\n",
       "      <td>A</td>\n",
       "    </tr>\n",
       "    <tr>\n",
       "      <th>8</th>\n",
       "      <td>meet</td>\n",
       "      <td>10256</td>\n",
       "      <td>2010-10-12</td>\n",
       "      <td>2012-10-13</td>\n",
       "      <td>MVD</td>\n",
       "      <td>Paul</td>\n",
       "      <td>None</td>\n",
       "      <td>AU</td>\n",
       "      <td>06031987</td>\n",
       "      <td>A</td>\n",
       "    </tr>\n",
       "  </tbody>\n",
       "</table>\n",
       "</div>"
      ],
      "text/plain": [
       "  Customer Name Customer ID Customer Open Date Last Consulted Date  \\\n",
       "0          Alex      123457         2010-10-12          2012-10-13   \n",
       "1          John      123458         2010-10-12          2012-10-13   \n",
       "2        Mathew      123459         2010-10-12          2012-10-13   \n",
       "3          Matt       12345         2010-10-12          2012-10-13   \n",
       "4         Jacob        1256         2010-10-12          2012-10-13   \n",
       "5          Jack       12956         2010-10-12          2012-10-13   \n",
       "8          meet       10256         2010-10-12          2012-10-13   \n",
       "\n",
       "  Vaccination Type Doctor Consulted State Country Date of Birth  \\\n",
       "0              MVD             Paul    SA     USA      00000000   \n",
       "1              MVD             Paul  None     IND      06031987   \n",
       "2              MVD             Paul   WAS    PHIL      06031987   \n",
       "3              MVD             Paul   BOS     NYC      06031987   \n",
       "4              MVD             Paul   VIC      AU      06031987   \n",
       "5             None             Paul  None      AU      06031987   \n",
       "8              MVD             Paul  None      AU      06031987   \n",
       "\n",
       "  Active Customer  \n",
       "0               A  \n",
       "1               A  \n",
       "2               A  \n",
       "3               A  \n",
       "4               A  \n",
       "5               A  \n",
       "8               A  "
      ]
     },
     "execution_count": 12,
     "metadata": {},
     "output_type": "execute_result"
    }
   ],
   "source": [
    "#Name of each columns\n",
    "column_name=[\"Customer Name\",\"Customer ID\",\"Customer Open Date\",\"Last Consulted Date\",\"Vaccination Type\",\n",
    "             \"Doctor Consulted\",\"State\",\"Country\",\"Date of Birth\",\"Active Customer\"]\n",
    "\n",
    "\n",
    "# Read pipe delimited data file\n",
    "# sep - the separator of data \"|\"\n",
    "# skiprows - it skips rows from beginning.1 used to skip header row.\n",
    "# skipfooter - it skips rows from ending.0 used because there is not any footer row in the end. if footer is avaible then use 1.\n",
    "# usecols - list of index of which columns needs to be added in dataframe. here first two columns ignored because first was empty and second defines |D|.\n",
    "# names - set column names. gave list of column name respectively.\n",
    "# parse_dates - used to convert date-time data from string to date time object. gave list of columns number\n",
    "data=pd.read_csv(\"data.csv\",sep=\"|\",skiprows=1,skipfooter=0,usecols=[2,3,4,5,6,7,8,9,10,11],names=column_name,parse_dates=[2,3,8])\n",
    "\n",
    "\n",
    "# it is important converted all datatype to string for using it in insert query of table which is dynamically formed.\n",
    "data=data.astype(str)\n",
    "\n",
    "#replace empty or nan in non-mandatory Date fields to the default 00000000 which will be interpreted as None in date type object of sql \n",
    "data[\"Last Consulted Date\"]=data[\"Last Consulted Date\"].replace(\"nan\",\"00000000\")\n",
    "data[\"Date of Birth\"]=data[\"Date of Birth\"].replace(\"nan\",\"00000000\")\n",
    "\n",
    "#coverting \"nan\" string to None object.\n",
    "data[data.loc[:]==\"nan\"]=None\n",
    "\n",
    "# \"Customer Name\",\"Customer ID\",\"Customer Open Date\" are mandatory fields \n",
    "# so if any records have missing values in that columns then \n",
    "# we have to remove that data or we can store somewhere else.\n",
    "# here we extracted indexes of data where mandatory field containing \"None\" or \"NaT\" \n",
    "bad_data_indx=np.concatenate((np.where(data[[\"Customer Name\",\"Customer ID\",\"Customer Open Date\"]]==\"NaT\")[0],\n",
    "                              np.where(data[[\"Customer Name\",\"Customer ID\",\"Customer Open Date\"]].isna())[0]))\n",
    "\n",
    "# storing bad-data into pipe delimited data file so we can recover missing data later\n",
    "data.loc[bad_data_indx,:].to_csv(\"bad_data.csv\",sep=\"|\")\n",
    "\n",
    "#removing bad-data from our main data so we can procceed it further.\n",
    "data.drop(index=bad_data_indx,inplace=True)\n",
    "\n",
    "\n",
    "data"
   ]
  },
  {
   "cell_type": "markdown",
   "id": "ce67cf1d",
   "metadata": {},
   "source": [
    "# Connect to Mysql Database"
   ]
  },
  {
   "cell_type": "code",
   "execution_count": 3,
   "id": "f37dc76c",
   "metadata": {},
   "outputs": [
    {
     "name": "stdout",
     "output_type": "stream",
     "text": [
      "You're connected to database:  ('incubyte',)\n"
     ]
    }
   ],
   "source": [
    "user_name=\"root\"\n",
    "password=\"12345\"\n",
    "db_name=\"incubyte\"\n",
    "try:\n",
    "    connection = mysql.connect(host='localhost',\n",
    "                                         database=db_name,\n",
    "                                         user=user_name,\n",
    "                                         password=password)\n",
    "    if connection.is_connected():\n",
    "        cursor = connection.cursor(buffered=True)\n",
    "        cursor.execute(\"select database();\")\n",
    "        record = cursor.fetchone()\n",
    "        print(\"You're connected to database: \", record)\n",
    "except Exception as e:\n",
    "    print(\"Error while connecting to MySQL\", e)\n"
   ]
  },
  {
   "cell_type": "markdown",
   "id": "b1172369",
   "metadata": {},
   "source": [
    "# Create Table "
   ]
  },
  {
   "cell_type": "code",
   "execution_count": 4,
   "id": "f289c876",
   "metadata": {},
   "outputs": [],
   "source": [
    "def create_table(name,columns_name,column_spec):\n",
    "    cursor=connection.cursor()\n",
    "    cursor.execute(\"SHOW TABLES FROM \"+db_name)\n",
    "    tables=[i[0] for i in cursor.fetchall()]\n",
    "    if (name not in tables) and (len(columns_name)==len(column_spec)):\n",
    "        try:\n",
    "            tbl_cols=[(\" \").join([i,j]) for i,j in zip(columns_name,column_spec)]\n",
    "            query='CREATE TABLE  IF NOT EXISTS '+name+' (' + ', '.join(tbl_cols) + ');'\n",
    "            cursor.execute(query)\n",
    "            print(name+\" table successfully created\")\n",
    "        except Exception as e:\n",
    "            print(\"Error while creating table: \"+e)\n",
    "    else:\n",
    "        if (len(columns_name)!=len(column_spec)):\n",
    "            print(\"number of Column names and column specifications not same.\")\n",
    "        else:\n",
    "            print(\"Table already exists\")\n",
    "    cursor.close()"
   ]
  },
  {
   "cell_type": "markdown",
   "id": "1843e888",
   "metadata": {},
   "source": [
    "# Insert  Records in Table"
   ]
  },
  {
   "cell_type": "code",
   "execution_count": 5,
   "id": "e288943c",
   "metadata": {},
   "outputs": [],
   "source": [
    "#list of tuples for each records\n",
    "def insert_records(table_nm,records):\n",
    "    try:\n",
    "        cursor=connection.cursor()\n",
    "        qry=\"insert into \"+table_nm+\" VALUES(%s, %s ,%s ,%s ,%s ,%s ,%s ,%s , STR_TO_DATE(%s, '%d%m%Y') ,%s);\"\n",
    "        cursor.executemany(qry,records)\n",
    "        cursor.close()\n",
    "    except Exception as e:\n",
    "            print(\"Error while insert records : \"+str(e))\n",
    "    \n"
   ]
  },
  {
   "cell_type": "markdown",
   "id": "6b082e5b",
   "metadata": {},
   "source": [
    "# Show Mysql Table data in DataFrame"
   ]
  },
  {
   "cell_type": "code",
   "execution_count": 6,
   "id": "1f18193a",
   "metadata": {},
   "outputs": [],
   "source": [
    "def Show_Table(table_name):\n",
    "    cursor=connection.cursor()\n",
    "    cursor.execute(\"select * from \"+table_name)\n",
    "    read_data=pd.DataFrame(cursor.fetchall())\n",
    "    cursor.close()\n",
    "    return read_data"
   ]
  },
  {
   "cell_type": "markdown",
   "id": "d414eb6f",
   "metadata": {},
   "source": [
    "# Common Table Fields "
   ]
  },
  {
   "cell_type": "code",
   "execution_count": 7,
   "id": "1cd6e59f",
   "metadata": {},
   "outputs": [],
   "source": [
    "#Created list of table details as per mentioned in instruction\n",
    "columns_name=[\"Customer_Name\",\"Customer_ID\",\"Customer_Open_Date\",\"Last_Consulted_Date\",\"Vaccination_Type\",\n",
    "             \"Doctor_Consulted\",\"State\",\"Country\",\"Date_of_Birth\",\"Active_Customer\"]\n",
    "\n",
    "column_spec=[\"VARCHAR(255) NOT NULL PRIMARY KEY\",\"VARCHAR(18) NOT NULL\",\"DATE NOT NULL\",\"DATE\",\"VARCHAR(5)\",\n",
    "             \"VARCHAR(255)\",\"VARCHAR(5)\",\"VARCHAR(5)\",\"DATE\",\"VARCHAR(1)\"]"
   ]
  },
  {
   "cell_type": "markdown",
   "id": "460070c2",
   "metadata": {},
   "source": [
    "# Fianally Load Clean Data to Database"
   ]
  },
  {
   "cell_type": "code",
   "execution_count": 8,
   "id": "67a74f25",
   "metadata": {},
   "outputs": [
    {
     "name": "stdout",
     "output_type": "stream",
     "text": [
      "USA table successfully created\n",
      "IND table successfully created\n",
      "PHIL table successfully created\n",
      "NYC table successfully created\n",
      "AU table successfully created\n"
     ]
    }
   ],
   "source": [
    "#list of unique country to create table accordingly\n",
    "countries=data[\"Country\"].unique()\n",
    "\n",
    "#country-wise  data slicing and storing to corresponding table\n",
    "for country in countries: \n",
    "    #create_table if not exist\n",
    "    create_table(country,columns_name,column_spec)\n",
    "    \n",
    "    #extract data of particular country\n",
    "    country_data=data[data[\"Country\"]==country]\n",
    "    #convert to list of records from dataframe\n",
    "    records=list(country_data.to_numpy())\n",
    "    \n",
    "    #Insert data into corresponding table\n",
    "    insert_records(country,records)"
   ]
  },
  {
   "cell_type": "markdown",
   "id": "a23310bd",
   "metadata": {},
   "source": [
    "# List of Tables"
   ]
  },
  {
   "cell_type": "code",
   "execution_count": 9,
   "id": "365bf76d",
   "metadata": {},
   "outputs": [
    {
     "name": "stdout",
     "output_type": "stream",
     "text": [
      "Tables from Database ['au', 'ind', 'nyc', 'phil', 'usa']\n"
     ]
    }
   ],
   "source": [
    "cursor=connection.cursor()\n",
    "cursor.execute(\"SHOW TABLES FROM \"+db_name)\n",
    "tables=[i[0] for i in cursor.fetchall()]\n",
    "cursor.close()\n",
    "print(\"Tables from Database\",tables)"
   ]
  },
  {
   "cell_type": "markdown",
   "id": "7e44ce1a",
   "metadata": {},
   "source": [
    "# Read the Data from Database Tables"
   ]
  },
  {
   "cell_type": "code",
   "execution_count": 10,
   "id": "24b9d62b",
   "metadata": {},
   "outputs": [
    {
     "data": {
      "text/html": [
       "<div>\n",
       "<style scoped>\n",
       "    .dataframe tbody tr th:only-of-type {\n",
       "        vertical-align: middle;\n",
       "    }\n",
       "\n",
       "    .dataframe tbody tr th {\n",
       "        vertical-align: top;\n",
       "    }\n",
       "\n",
       "    .dataframe thead th {\n",
       "        text-align: right;\n",
       "    }\n",
       "</style>\n",
       "<table border=\"1\" class=\"dataframe\">\n",
       "  <thead>\n",
       "    <tr style=\"text-align: right;\">\n",
       "      <th></th>\n",
       "      <th>0</th>\n",
       "      <th>1</th>\n",
       "      <th>2</th>\n",
       "      <th>3</th>\n",
       "      <th>4</th>\n",
       "      <th>5</th>\n",
       "      <th>6</th>\n",
       "      <th>7</th>\n",
       "      <th>8</th>\n",
       "      <th>9</th>\n",
       "    </tr>\n",
       "  </thead>\n",
       "  <tbody>\n",
       "    <tr>\n",
       "      <th>0</th>\n",
       "      <td>Jack</td>\n",
       "      <td>12956</td>\n",
       "      <td>2010-10-12</td>\n",
       "      <td>2012-10-13</td>\n",
       "      <td>None</td>\n",
       "      <td>Paul</td>\n",
       "      <td>None</td>\n",
       "      <td>AU</td>\n",
       "      <td>1987-03-06</td>\n",
       "      <td>A</td>\n",
       "    </tr>\n",
       "    <tr>\n",
       "      <th>1</th>\n",
       "      <td>Jacob</td>\n",
       "      <td>1256</td>\n",
       "      <td>2010-10-12</td>\n",
       "      <td>2012-10-13</td>\n",
       "      <td>MVD</td>\n",
       "      <td>Paul</td>\n",
       "      <td>VIC</td>\n",
       "      <td>AU</td>\n",
       "      <td>1987-03-06</td>\n",
       "      <td>A</td>\n",
       "    </tr>\n",
       "    <tr>\n",
       "      <th>2</th>\n",
       "      <td>meet</td>\n",
       "      <td>10256</td>\n",
       "      <td>2010-10-12</td>\n",
       "      <td>2012-10-13</td>\n",
       "      <td>MVD</td>\n",
       "      <td>Paul</td>\n",
       "      <td>None</td>\n",
       "      <td>AU</td>\n",
       "      <td>1987-03-06</td>\n",
       "      <td>A</td>\n",
       "    </tr>\n",
       "  </tbody>\n",
       "</table>\n",
       "</div>"
      ],
      "text/plain": [
       "       0      1           2           3     4     5     6   7           8  9\n",
       "0   Jack  12956  2010-10-12  2012-10-13  None  Paul  None  AU  1987-03-06  A\n",
       "1  Jacob   1256  2010-10-12  2012-10-13   MVD  Paul   VIC  AU  1987-03-06  A\n",
       "2   meet  10256  2010-10-12  2012-10-13   MVD  Paul  None  AU  1987-03-06  A"
      ]
     },
     "execution_count": 10,
     "metadata": {},
     "output_type": "execute_result"
    }
   ],
   "source": [
    "table_name=\"au\"\n",
    "Show_Table(table_name)"
   ]
  },
  {
   "cell_type": "code",
   "execution_count": null,
   "id": "e1fd4676",
   "metadata": {},
   "outputs": [],
   "source": []
  }
 ],
 "metadata": {
  "kernelspec": {
   "display_name": "Python 3",
   "language": "python",
   "name": "python3"
  },
  "language_info": {
   "codemirror_mode": {
    "name": "ipython",
    "version": 3
   },
   "file_extension": ".py",
   "mimetype": "text/x-python",
   "name": "python",
   "nbconvert_exporter": "python",
   "pygments_lexer": "ipython3",
   "version": "3.6.13"
  }
 },
 "nbformat": 4,
 "nbformat_minor": 5
}

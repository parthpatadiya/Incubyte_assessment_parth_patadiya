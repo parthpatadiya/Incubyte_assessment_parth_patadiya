{
 "cells": [
  {
   "cell_type": "code",
   "execution_count": null,
   "id": "7e77e235",
   "metadata": {},
   "outputs": [],
   "source": [
    "import pandas as pd\n",
    "import mysql.connector as mysql"
   ]
  },
  {
   "cell_type": "markdown",
   "id": "ce67cf1d",
   "metadata": {},
   "source": [
    "# Connect to Mysql  and Empty Database"
   ]
  },
  {
   "cell_type": "code",
   "execution_count": null,
   "id": "f37dc76c",
   "metadata": {},
   "outputs": [],
   "source": [
    "user_name=\"root\"\n",
    "password=\"12345\"\n",
    "db_name=\"incubyte\"\n",
    "try:\n",
    "    connection = mysql.connect(host='localhost',\n",
    "                                         database=db_name,\n",
    "                                         user=user_name,\n",
    "                                         password=password)\n",
    "    if connection.is_connected():\n",
    "        cursor = connection.cursor(buffered=True)\n",
    "        cursor.execute(\"select database();\")\n",
    "        record = cursor.fetchone()\n",
    "        print(\"You're connected to database: \", record)\n",
    "except Exception as e:\n",
    "    print(\"Error while connecting to MySQL\", e)\n"
   ]
  },
  {
   "cell_type": "code",
   "execution_count": null,
   "id": "e66562ea",
   "metadata": {},
   "outputs": [],
   "source": [
    "cursor.execute(\"SHOW Tables;\")\n",
    "cursor.fetchall()"
   ]
  },
  {
   "cell_type": "markdown",
   "id": "b1172369",
   "metadata": {},
   "source": [
    "# Create Table "
   ]
  },
  {
   "cell_type": "code",
   "execution_count": null,
   "id": "f289c876",
   "metadata": {},
   "outputs": [],
   "source": [
    "def create_table(name,columns_name,column_spec):\n",
    "    cursor=connection.cursor()\n",
    "    tbl_cols=[(\" \").join([i,j]) for i,j in zip(columns_name,column_spec)]\n",
    "    query='CREATE TABLE  IF NOT EXISTS '+name+' (' + ', '.join(tbl_cols) + ');'\n",
    "    aa=cursor.execute(query)\n",
    "    print(aa)\n",
    "    print(name+\" successfully created\")\n",
    "    cursor.close()"
   ]
  },
  {
   "cell_type": "markdown",
   "id": "d414eb6f",
   "metadata": {},
   "source": [
    "# Common Table Field "
   ]
  },
  {
   "cell_type": "code",
   "execution_count": null,
   "id": "1cd6e59f",
   "metadata": {},
   "outputs": [],
   "source": [
    "columns_name=[\"Customer_Name\",\"Customer_ID\",\"Customer_Open_Date\",\"Last_Consulted_Date\",\"Vaccination_Type\",\n",
    "             \"Doctor_Consulted\",\"State\",\"Country\",\"Date_of_Birth\",\"Active_Customer\"]\n",
    "column_spec=[\"VARCHAR(255) NOT NULL PRIMARY KEY\",\"VARCHAR(18) NOT NULL\",\"DATE NOT NULL\",\"DATE\",\"VARCHAR(5)\",\n",
    "             \"VARCHAR(255)\",\"VARCHAR(5)\",\"VARCHAR(5)\",\"DATE\",\"VARCHAR(1)\"]"
   ]
  },
  {
   "cell_type": "code",
   "execution_count": null,
   "id": "2b1f7917",
   "metadata": {},
   "outputs": [],
   "source": [
    "table_name=\"test5\"\n",
    "create_table(table_name,columns_name,column_spec)"
   ]
  },
  {
   "cell_type": "markdown",
   "id": "744ddee4",
   "metadata": {},
   "source": [
    "# insert single record"
   ]
  },
  {
   "cell_type": "code",
   "execution_count": null,
   "id": "c5a67813",
   "metadata": {},
   "outputs": [],
   "source": [
    "val=(\"','\").join(list(data.iloc[4]))\n",
    "qry=\"insert into test VALUES('\" +val+\"');\"\n",
    "cursor.execute(qry)"
   ]
  },
  {
   "cell_type": "markdown",
   "id": "1843e888",
   "metadata": {},
   "source": [
    "# insert multiple records"
   ]
  },
  {
   "cell_type": "code",
   "execution_count": null,
   "id": "e288943c",
   "metadata": {},
   "outputs": [],
   "source": [
    "# all_values=[tuple(data.loc[i]) for i in data.index]\n",
    "# print(all_values)\n",
    "all_values=[('Alex', '123457', '2010-10-12', '2012-10-13', 'MVD', 'Paul', 'SA', 'USA', '1987-03-06', None)]\n",
    "def insert_records(table_nm,all_values):\n",
    "    cursor=connection.cursor()\n",
    "    qry=\"insert into \"+table_nm+\" VALUES(%s, %s ,%s ,%s ,%s ,%s ,%s ,%s ,%s ,%s);\"\n",
    "    cursor.executemany(qry,all_values)\n",
    "    cursor.close()\n"
   ]
  },
  {
   "cell_type": "code",
   "execution_count": null,
   "id": "e71cdc09",
   "metadata": {},
   "outputs": [],
   "source": [
    "insert_records(\"test5\",all_values)"
   ]
  },
  {
   "cell_type": "code",
   "execution_count": null,
   "id": "1f18193a",
   "metadata": {},
   "outputs": [],
   "source": [
    "cursor.close()\n",
    "cursor=connection.cursor()\n",
    "cursor.execute(\"select * from test5\")\n",
    "cursor.fetchall()"
   ]
  },
  {
   "cell_type": "code",
   "execution_count": null,
   "id": "318051db",
   "metadata": {},
   "outputs": [],
   "source": []
  },
  {
   "cell_type": "code",
   "execution_count": null,
   "id": "a3f34f6d",
   "metadata": {},
   "outputs": [],
   "source": []
  },
  {
   "cell_type": "code",
   "execution_count": null,
   "id": "111ef318",
   "metadata": {},
   "outputs": [],
   "source": [
    "cursor.execute(\"insert into test VALUES(parth, 123458 ,2010-10-12 , 2012-10-13' , MVD' , Paul , TN , IND , 1987-03-06 , A);\")"
   ]
  },
  {
   "cell_type": "markdown",
   "id": "4c14d403",
   "metadata": {},
   "source": [
    "# Insert Records in Table"
   ]
  },
  {
   "cell_type": "code",
   "execution_count": null,
   "id": "3be49ed6",
   "metadata": {},
   "outputs": [],
   "source": [
    "def Insert_data(table_name,records):\n",
    "    "
   ]
  },
  {
   "cell_type": "code",
   "execution_count": null,
   "id": "4a445e6c",
   "metadata": {},
   "outputs": [],
   "source": [
    "column_name=[\"Customer Name\",\"Customer ID\",\"Customer Open Date\",\"Last Consulted Date\",\"Vaccination Type\",\n",
    "             \"Doctor Consulted\",\"State\",\"Country\",\"Date of Birth\",\"Active Customer\"]"
   ]
  },
  {
   "cell_type": "code",
   "execution_count": null,
   "id": "86f04702",
   "metadata": {},
   "outputs": [],
   "source": [
    "data=pd.read_csv(\"data.csv\",sep=\"|\",skiprows=1,skipfooter=0,usecols=[2,3,4,5,6,7,8,9,10,11],names=column_name,parse_dates=[2,3])\n",
    "data[\"Date of Birth\"]=pd.to_datetime(data[\"Date of Birth\"],format='%d%m%Y')\n",
    "data=data.astype('str')\n",
    "data"
   ]
  },
  {
   "cell_type": "code",
   "execution_count": null,
   "id": "67a74f25",
   "metadata": {},
   "outputs": [],
   "source": []
  },
  {
   "cell_type": "code",
   "execution_count": null,
   "id": "5b916f3f",
   "metadata": {},
   "outputs": [],
   "source": [
    "data"
   ]
  },
  {
   "cell_type": "code",
   "execution_count": null,
   "id": "1f172e22",
   "metadata": {},
   "outputs": [],
   "source": [
    "data[\"Country\"].unique()"
   ]
  },
  {
   "cell_type": "code",
   "execution_count": null,
   "id": "cf101426",
   "metadata": {},
   "outputs": [],
   "source": [
    "data.groupby([\"Country\"]).size()"
   ]
  },
  {
   "cell_type": "code",
   "execution_count": null,
   "id": "330006a1",
   "metadata": {},
   "outputs": [],
   "source": []
  }
 ],
 "metadata": {
  "kernelspec": {
   "display_name": "Python 3",
   "language": "python",
   "name": "python3"
  },
  "language_info": {
   "codemirror_mode": {
    "name": "ipython",
    "version": 3
   },
   "file_extension": ".py",
   "mimetype": "text/x-python",
   "name": "python",
   "nbconvert_exporter": "python",
   "pygments_lexer": "ipython3",
   "version": "3.6.13"
  }
 },
 "nbformat": 4,
 "nbformat_minor": 5
}
